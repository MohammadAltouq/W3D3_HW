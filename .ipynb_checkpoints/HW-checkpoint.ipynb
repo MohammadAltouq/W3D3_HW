{
 "cells": [
  {
   "cell_type": "markdown",
   "id": "5d578dd5",
   "metadata": {},
   "source": [
    "#  Final Exercise: <br> <br>Create a Move_Tutor Class that will allow the Pokemon Class to inherit a move list.\n",
    "<br>\n",
    "<p>for an added bonus you can make sure that if a pokemon has 4 moves the user can choose one of them to replace with a new move. </p>"
   ]
  },
  {
   "cell_type": "code",
   "execution_count": 7,
   "id": "a288576e",
   "metadata": {},
   "outputs": [],
   "source": [
    "import requests\n",
    "\n",
    "class Move_Tutor:\n",
    "\n",
    "    def __init__(self):\n",
    "        self.moves_list = []\n",
    "        self.moves_learned = []\n",
    "\n",
    "        \n",
    "    def update_moves(self):\n",
    "        r = requests.get(f\"https://pokeapi.co/api/v2/pokemon/{self.name.lower()}\")\n",
    "        if r.status_code == 200:\n",
    "            pokemon = r.json()\n",
    "        else:\n",
    "            print(f\"Please check pokemon name spelling and try again: {r.status_code}\")\n",
    "            return\n",
    "        self.moves_list =[move['move']['name'] for move in pokemon['moves']]\n",
    "        \n",
    "    def show_moves(self):\n",
    "        print(self.moves_learned)\n",
    "        \n",
    "    def teach_move(self):\n",
    "        user_input = input(f\"{self.moves_list} \\n\\n choose a move from the list to teach {self.name}\")\n",
    "        if user_input in self.moves_list:\n",
    "            self.moves_learned.append(user_input)\n",
    "            print(f\"{user_input} has been added to {self.name} list of moves\") \n",
    "        else:\n",
    "            print(\"invalid \")\n"
   ]
  },
  {
   "cell_type": "code",
   "execution_count": 8,
   "id": "11c5be26",
   "metadata": {},
   "outputs": [],
   "source": [
    "class Pokemon(Move_Tutor):\n",
    "    def __init__(self, name):\n",
    "        Move_Tutor.__init__(self)\n",
    "        self.name = name\n",
    "        self.types = []\n",
    "        self.abilities = []\n",
    "        self.weight = None\n",
    "        self.poke_api_call()\n",
    "        \n",
    "    def poke_api_call(self):\n",
    "        r = requests.get(f\"https://pokeapi.co/api/v2/pokemon/{self.name.lower()}\")\n",
    "        if r.status_code == 200:\n",
    "            pokemon = r.json()\n",
    "            \n",
    "        else:\n",
    "            print(f\"Please check pokemon name spelling and try again: {r.status_code}\")\n",
    "            return\n",
    "        self.name = pokemon['name']\n",
    "        self.types = [pokemon['type']['name'] for pokemon in pokemon['types']]\n",
    "        self.abilities = [pokemon['ability']['name'] for pokemon in pokemon['abilities']]\n",
    "        self.weight = pokemon['weight']\n",
    "        self.image = pokemon['sprites']['front_shiny']\n",
    "                \n",
    "        \n",
    "        print(f\"{self.name}'s data has been updated!\")\n",
    "        \n",
    "    def display(self):\n",
    "        display(Image(url = self.image))\n",
    "        \n",
    "    def __repr__(self):\n",
    "        return f\"You caught a {self.name}!!\""
   ]
  },
  {
   "cell_type": "code",
   "execution_count": 11,
   "id": "be8ea964",
   "metadata": {},
   "outputs": [
    {
     "name": "stdout",
     "output_type": "stream",
     "text": [
      "pikachu's data has been updated!\n",
      "You caught a pikachu!!\n",
      "['electric']\n",
      "['mega-punch', 'pay-day', 'thunder-punch', 'slam', 'double-kick', 'mega-kick', 'headbutt', 'body-slam', 'take-down', 'double-edge', 'tail-whip', 'growl', 'surf', 'submission', 'counter', 'seismic-toss', 'strength', 'thunder-shock', 'thunderbolt', 'thunder-wave', 'thunder', 'dig', 'toxic', 'agility', 'quick-attack', 'rage', 'mimic', 'double-team', 'defense-curl', 'light-screen', 'reflect', 'bide', 'swift', 'skull-bash', 'flash', 'rest', 'substitute', 'thief', 'snore', 'curse', 'reversal', 'protect', 'sweet-kiss', 'mud-slap', 'zap-cannon', 'detect', 'endure', 'charm', 'rollout', 'swagger', 'spark', 'attract', 'sleep-talk', 'return', 'frustration', 'dynamic-punch', 'encore', 'iron-tail', 'hidden-power', 'rain-dance', 'rock-smash', 'uproar', 'facade', 'focus-punch', 'helping-hand', 'brick-break', 'knock-off', 'secret-power', 'signal-beam', 'covet', 'volt-tackle', 'calm-mind', 'shock-wave', 'natural-gift', 'feint', 'fling', 'magnet-rise', 'nasty-plot', 'discharge', 'captivate', 'grass-knot', 'charge-beam', 'electro-ball', 'round', 'echoed-voice', 'volt-switch', 'electroweb', 'wild-charge', 'draining-kiss', 'play-rough', 'play-nice', 'confide', 'electric-terrain', 'nuzzle', 'laser-focus', 'rising-voltage']\n"
     ]
    }
   ],
   "source": [
    "pikachu = Pokemon(\"pikachu\")\n",
    "print(pikachu)\n",
    "pikachu.abilities\n",
    "print(pikachu.types)\n",
    "pikachu.update_moves()\n",
    "print(pikachu.moves_list)"
   ]
  },
  {
   "cell_type": "code",
   "execution_count": null,
   "id": "c1a485d1",
   "metadata": {},
   "outputs": [],
   "source": [
    "print(pikachu.teach_move())"
   ]
  },
  {
   "cell_type": "code",
   "execution_count": null,
   "id": "9761824c",
   "metadata": {},
   "outputs": [],
   "source": [
    "pikachu.show_moves()\n"
   ]
  },
  {
   "cell_type": "code",
   "execution_count": null,
   "id": "a0db4972",
   "metadata": {},
   "outputs": [],
   "source": []
  }
 ],
 "metadata": {
  "kernelspec": {
   "display_name": "Python 3 (ipykernel)",
   "language": "python",
   "name": "python3"
  },
  "language_info": {
   "codemirror_mode": {
    "name": "ipython",
    "version": 3
   },
   "file_extension": ".py",
   "mimetype": "text/x-python",
   "name": "python",
   "nbconvert_exporter": "python",
   "pygments_lexer": "ipython3",
   "version": "3.9.13"
  }
 },
 "nbformat": 4,
 "nbformat_minor": 5
}
